{
 "cells": [
  {
   "cell_type": "markdown",
   "metadata": {},
   "source": [
    "# Sample usage of OpenAI API\n",
    "\n",
    "In this notebook, we'll share the processing of how we utilized OpenAI APIs to process our lyrics, including:\n",
    "\n",
    "- Token Calculation\n",
    "- Obtain Embeddings\n",
    "- Code lyrics into relevant Themes "
   ]
  },
  {
   "cell_type": "markdown",
   "metadata": {},
   "source": [
    "### Prep -- obtain OpenAI API Key and load the package\n",
    "\n",
    "- Note: to run this, please set the API key as an environment variable in your system (on *Windows*: name after `OPENAI_API_KEY`) -- this is a safe measure to avoid leak your key during commit. \n",
    "- Otherwise, you can replace the key here `api_key = ..(YOUR KEY)..`"
   ]
  },
  {
   "cell_type": "code",
   "execution_count": 1,
   "metadata": {},
   "outputs": [],
   "source": [
    "from openai import OpenAI"
   ]
  },
  {
   "cell_type": "code",
   "execution_count": 2,
   "metadata": {},
   "outputs": [],
   "source": [
    "import os\n",
    "client = OpenAI(api_key = os.environ['OPENAI_API_KEY'])"
   ]
  },
  {
   "cell_type": "markdown",
   "metadata": {},
   "source": [
    "### Load lyric dataset"
   ]
  },
  {
   "cell_type": "code",
   "execution_count": 3,
   "metadata": {},
   "outputs": [],
   "source": [
    "import pandas as pd\n",
    "import json"
   ]
  },
  {
   "cell_type": "code",
   "execution_count": 4,
   "metadata": {},
   "outputs": [],
   "source": [
    "with open('all_song_lyrics_dict_cleaned.json', 'r') as json_file:\n",
    "    all_song_lyrics_dict = json.load(json_file)"
   ]
  },
  {
   "cell_type": "code",
   "execution_count": 5,
   "metadata": {},
   "outputs": [
    {
     "data": {
      "text/plain": [
       "30851"
      ]
     },
     "execution_count": 5,
     "metadata": {},
     "output_type": "execute_result"
    }
   ],
   "source": [
    "dict_size = len(all_song_lyrics_dict) # we have 3k+ unique songs\n",
    "dict_size"
   ]
  },
  {
   "cell_type": "code",
   "execution_count": 6,
   "metadata": {},
   "outputs": [
    {
     "data": {
      "text/html": [
       "<div>\n",
       "<style scoped>\n",
       "    .dataframe tbody tr th:only-of-type {\n",
       "        vertical-align: middle;\n",
       "    }\n",
       "\n",
       "    .dataframe tbody tr th {\n",
       "        vertical-align: top;\n",
       "    }\n",
       "\n",
       "    .dataframe thead th {\n",
       "        text-align: right;\n",
       "    }\n",
       "</style>\n",
       "<table border=\"1\" class=\"dataframe\">\n",
       "  <thead>\n",
       "    <tr style=\"text-align: right;\">\n",
       "      <th></th>\n",
       "      <th>song</th>\n",
       "      <th>lyrics</th>\n",
       "    </tr>\n",
       "  </thead>\n",
       "  <tbody>\n",
       "    <tr>\n",
       "      <th>0</th>\n",
       "      <td>Glory - Common &amp; John Legend</td>\n",
       "      <td>\\n\\nOne day when the glory comes\\nIt will be o...</td>\n",
       "    </tr>\n",
       "    <tr>\n",
       "      <th>1</th>\n",
       "      <td>Glory And Gore - Lorde</td>\n",
       "      <td>\\n\\nThere's a humming in the restless summer a...</td>\n",
       "    </tr>\n",
       "    <tr>\n",
       "      <th>2</th>\n",
       "      <td>Glory Bound - The Grass Roots</td>\n",
       "      <td>All the sun on the outside\\nDoesn't touch what...</td>\n",
       "    </tr>\n",
       "    <tr>\n",
       "      <th>3</th>\n",
       "      <td>Glory Days - Bruce Springsteen</td>\n",
       "      <td>\\n\\nOh yeah\\nC'mon\\nWooh\\nHuh\\n\\nI had a frien...</td>\n",
       "    </tr>\n",
       "    <tr>\n",
       "      <th>4</th>\n",
       "      <td>Glory Glory - The Rascals</td>\n",
       "      <td>I saw a child, he was carryin' a light\\nI aske...</td>\n",
       "    </tr>\n",
       "  </tbody>\n",
       "</table>\n",
       "</div>"
      ],
      "text/plain": [
       "                             song  \\\n",
       "0    Glory - Common & John Legend   \n",
       "1          Glory And Gore - Lorde   \n",
       "2   Glory Bound - The Grass Roots   \n",
       "3  Glory Days - Bruce Springsteen   \n",
       "4       Glory Glory - The Rascals   \n",
       "\n",
       "                                              lyrics  \n",
       "0  \\n\\nOne day when the glory comes\\nIt will be o...  \n",
       "1  \\n\\nThere's a humming in the restless summer a...  \n",
       "2  All the sun on the outside\\nDoesn't touch what...  \n",
       "3  \\n\\nOh yeah\\nC'mon\\nWooh\\nHuh\\n\\nI had a frien...  \n",
       "4  I saw a child, he was carryin' a light\\nI aske...  "
      ]
     },
     "execution_count": 6,
     "metadata": {},
     "output_type": "execute_result"
    }
   ],
   "source": [
    "# transform the dictionary into a dataframe: key = song name, value = lyrics\n",
    "\n",
    "df = pd.DataFrame(list(all_song_lyrics_dict.items()),columns = ['song','lyrics'])\n",
    "\n",
    "df.head()"
   ]
  },
  {
   "cell_type": "code",
   "execution_count": 7,
   "metadata": {},
   "outputs": [
    {
     "data": {
      "text/plain": [
       "count     30851.000000\n",
       "mean       9652.640692\n",
       "std       53593.465180\n",
       "min           1.000000\n",
       "25%        1010.000000\n",
       "50%        1492.000000\n",
       "75%        2448.500000\n",
       "max      824531.000000\n",
       "Name: lyrics, dtype: float64"
      ]
     },
     "execution_count": 7,
     "metadata": {},
     "output_type": "execute_result"
    }
   ],
   "source": [
    "## see a distribution of song lengths\n",
    "df['lyrics'].apply(len).describe()\n"
   ]
  },
  {
   "cell_type": "markdown",
   "metadata": {},
   "source": [
    "### Some remarks about Raw Lyrics dataset\n",
    "\n",
    "It is obvious that the rule-based cleaning cannot handle everything. Based on the length distribution:\n",
    "- There are some lyrics that are too short --- e.g. the length of *1* is definitely problematic\n",
    "- Also, there are lyrics that are too long --- this happened frequently during API request, where irrelevant/false infomation beyond lyrics were curated"
   ]
  },
  {
   "cell_type": "code",
   "execution_count": 8,
   "metadata": {},
   "outputs": [
    {
     "data": {
      "text/plain": [
       "19404.0"
      ]
     },
     "execution_count": 8,
     "metadata": {},
     "output_type": "execute_result"
    }
   ],
   "source": [
    "df['lyrics'].apply(len).quantile(0.94)"
   ]
  },
  {
   "cell_type": "code",
   "execution_count": 9,
   "metadata": {},
   "outputs": [
    {
     "data": {
      "text/plain": [
       "12799.5"
      ]
     },
     "execution_count": 9,
     "metadata": {},
     "output_type": "execute_result"
    }
   ],
   "source": [
    "# see 95th percentile of song lengths\n",
    "df['lyrics'].apply(len).quantile(0.93)"
   ]
  },
  {
   "cell_type": "code",
   "execution_count": 10,
   "metadata": {},
   "outputs": [
    {
     "data": {
      "text/plain": [
       "133.0"
      ]
     },
     "execution_count": 10,
     "metadata": {},
     "output_type": "execute_result"
    }
   ],
   "source": [
    "# see 5th percentile of song lengths\n",
    "df['lyrics'].apply(len).quantile(0.04)"
   ]
  },
  {
   "cell_type": "markdown",
   "metadata": {},
   "source": [
    "- 94 percentile around 19000 characters\n",
    "- 90 percentile around 4300 character\n",
    "\n",
    "- 4 percentile around 150 characters\n",
    "- 5 percentile around 400 character\n",
    "\n",
    "Those more than 5000 characters are likely problematics --- theses are lyrics not essays :3\n",
    "\n"
   ]
  },
  {
   "cell_type": "markdown",
   "metadata": {},
   "source": [
    "After EDA, we decided to drop the bottom 5 percentile and top 10 percentile based on the length:\n",
    "- It is very likely a lyric with fewer than 200 characters are not collected correctly. \n",
    "- For longer lyrics, e.g. when lyrics length exceed 5000 characters, more than 50% of the occurances include false data (e.g. book pages, advertisement, random web pages..) Also, consider API calls is cost by token count, it is wise to exclude those *longer* ones when we don't have a better, effective way to clean and sample from them."
   ]
  },
  {
   "cell_type": "code",
   "execution_count": 61,
   "metadata": {},
   "outputs": [],
   "source": [
    "# drop the top 10% and bottom 5% of song lengths\n",
    "\n",
    "df_drop = df[df['lyrics'].apply(len) > df['lyrics'].apply(len).quantile(0.05)]\n",
    "\n",
    "df_drop = df_drop[df_drop['lyrics'].apply(len) < df['lyrics'].apply(len).quantile(0.90)]"
   ]
  },
  {
   "cell_type": "code",
   "execution_count": 62,
   "metadata": {},
   "outputs": [
    {
     "data": {
      "text/plain": [
       "count    26221.000000\n",
       "mean      1662.119294\n",
       "std        858.645227\n",
       "min        423.000000\n",
       "25%       1033.000000\n",
       "50%       1437.000000\n",
       "75%       2082.000000\n",
       "max       4374.000000\n",
       "Name: lyrics, dtype: float64"
      ]
     },
     "execution_count": 62,
     "metadata": {},
     "output_type": "execute_result"
    }
   ],
   "source": [
    "df_drop['lyrics'].apply(len).describe()"
   ]
  },
  {
   "cell_type": "code",
   "execution_count": 63,
   "metadata": {},
   "outputs": [
    {
     "data": {
      "text/plain": [
       "43582430"
      ]
     },
     "execution_count": 63,
     "metadata": {},
     "output_type": "execute_result"
    }
   ],
   "source": [
    "df_drop['lyrics'].apply(len).sum()"
   ]
  },
  {
   "cell_type": "code",
   "execution_count": 64,
   "metadata": {},
   "outputs": [
    {
     "data": {
      "text/plain": [
       "(26221, 2)"
      ]
     },
     "execution_count": 64,
     "metadata": {},
     "output_type": "execute_result"
    }
   ],
   "source": [
    "df_drop.shape ## Not too bad -- there are around 2.6k songs left"
   ]
  },
  {
   "cell_type": "markdown",
   "metadata": {},
   "source": [
    "### Counting Token\n",
    "\n",
    "- This is essential so you keep your expediture in check"
   ]
  },
  {
   "cell_type": "code",
   "execution_count": 13,
   "metadata": {},
   "outputs": [],
   "source": [
    "import tiktoken"
   ]
  },
  {
   "cell_type": "code",
   "execution_count": 14,
   "metadata": {},
   "outputs": [],
   "source": [
    "encoding = tiktoken.encoding_for_model(\"gpt-3.5-turbo\")"
   ]
  },
  {
   "cell_type": "markdown",
   "metadata": {},
   "source": [
    "Here is an example of how to keep track of a single song token length --- we'll need to pay base on it"
   ]
  },
  {
   "cell_type": "code",
   "execution_count": 15,
   "metadata": {},
   "outputs": [],
   "source": [
    "import random\n",
    "# sample lyrics randomly collected from the dataset\n",
    "lyrics_1 = df['lyrics'][random.randint(0, dict_size)]\n",
    "# lyrics_2 = df['lyrics'][random.randint(0, dict_size)]\n",
    "# lyrics_3 = df['lyrics'][random.randint(0, dict_size)]"
   ]
  },
  {
   "cell_type": "code",
   "execution_count": 16,
   "metadata": {},
   "outputs": [
    {
     "name": "stdout",
     "output_type": "stream",
     "text": [
      "We shall overcome\n",
      "We shall overcome\n",
      "We shall overcome, some day\n",
      "Oh, deep in my heart\n",
      "I do believe\n",
      "We shall overcome, some day\n",
      "We'll walk hand in hand\n",
      "We'll walk hand in hand\n",
      "We'll walk hand in hand, some day\n",
      "Oh, deep in my heart\n",
      "We shall live in peace\n",
      "We shall live in peace\n",
      "We shall live in peace, some day\n",
      "Oh, deep in my heart\n",
      "We shall all be free\n",
      "We shall all be free\n",
      "We shall all be free, some day\n",
      "Oh, deep in my heart\n",
      "We are not afraid\n",
      "We are not afraid\n",
      "We are not afraid, TODAY\n",
      "Oh, deep in my heart\n",
      "We shall overcome\n",
      "We shall overcome\n",
      "We shall overcome, some day\n",
      "Oh, deep in my heart\n",
      "I do believe\n"
     ]
    }
   ],
   "source": [
    "print(lyrics_1) "
   ]
  },
  {
   "cell_type": "code",
   "execution_count": 17,
   "metadata": {},
   "outputs": [
    {
     "data": {
      "text/plain": [
       "602"
      ]
     },
     "execution_count": 17,
     "metadata": {},
     "output_type": "execute_result"
    }
   ],
   "source": [
    "len(lyrics_1) ## character length of the lyrics"
   ]
  },
  {
   "cell_type": "code",
   "execution_count": 18,
   "metadata": {},
   "outputs": [
    {
     "data": {
      "text/plain": [
       "169"
      ]
     },
     "execution_count": 18,
     "metadata": {},
     "output_type": "execute_result"
    }
   ],
   "source": [
    "lyrics_1_tokens = encoding.encode(lyrics_1)\n",
    "len(lyrics_1_tokens) # token count"
   ]
  },
  {
   "cell_type": "markdown",
   "metadata": {},
   "source": [
    "Now, we can apply the same thing to all the unique songs"
   ]
  },
  {
   "cell_type": "code",
   "execution_count": 65,
   "metadata": {},
   "outputs": [
    {
     "data": {
      "text/plain": [
       "count    26221.000000\n",
       "mean       473.403417\n",
       "std        265.770806\n",
       "min         92.000000\n",
       "25%        282.000000\n",
       "50%        396.000000\n",
       "75%        600.000000\n",
       "max       3542.000000\n",
       "Name: lyrics_tokens, dtype: float64"
      ]
     },
     "execution_count": 65,
     "metadata": {},
     "output_type": "execute_result"
    }
   ],
   "source": [
    "# get the sum of the tokens for the entire dataframe\n",
    "\n",
    "df_drop['lyrics_tokens'] = df_drop['lyrics'].apply(lambda x: encoding.encode(x))\n",
    "\n",
    "df_drop['lyrics_tokens'].apply(len).describe()"
   ]
  },
  {
   "cell_type": "code",
   "execution_count": 66,
   "metadata": {},
   "outputs": [
    {
     "data": {
      "text/plain": [
       "12413111"
      ]
     },
     "execution_count": 66,
     "metadata": {},
     "output_type": "execute_result"
    }
   ],
   "source": [
    "df_drop['lyrics_tokens'].apply(len).sum() ## 12 million tokens to be processed"
   ]
  },
  {
   "cell_type": "markdown",
   "metadata": {},
   "source": [
    "#### 12 million token of lyric ~\n",
    "\n",
    "- base on simple calcuation using the current gpt-3.5 pricing\n",
    "- getting embedding for them using `text-embedding-3-small` take less than 1 dollar (this might be more relative to the request numbers)\n",
    "- **input** them into an agent (`gpt-3.5-turbo`) cost around 10 dollars. (We used $8 in the end.)"
   ]
  },
  {
   "cell_type": "markdown",
   "metadata": {},
   "source": [
    "### Create embedding! ~ \n",
    "\n",
    "- Now we'll use the `text-embedding-3-small` model to create an embedding for each lyric\n",
    "\n",
    "`tqdm` package can keep track of the progress, so that we can see it in case there's some problem in the requesting process."
   ]
  },
  {
   "cell_type": "code",
   "execution_count": 62,
   "metadata": {},
   "outputs": [],
   "source": [
    "client = OpenAI(api_key = os.environ['OPENAI_API_KEY'])"
   ]
  },
  {
   "cell_type": "code",
   "execution_count": 71,
   "metadata": {},
   "outputs": [],
   "source": [
    "def get_embedding(text, model=\"text-embedding-3-small\"):\n",
    "   \n",
    "   return client.embeddings.create(input = [text], model=model).data[0].embeddin"
   ]
  },
  {
   "cell_type": "code",
   "execution_count": 67,
   "metadata": {},
   "outputs": [],
   "source": [
    "import json\n",
    "from tqdm import tqdm\n",
    "\n",
    "def create_lyrics_embedding_json_line_by_line(df, output_file_name=\"song_lyrics_embeddings_line_by_line.json\"):\n",
    "    # Open the output file in write mode\n",
    "    with open(output_file_name, 'w') as outfile:\n",
    "        # Iterate through each row in the DataFrame, with a progress bar\n",
    "        for _, row in tqdm(df.iterrows(), total=len(df), desc=\"Processing songs\"):\n",
    "            song_title = row['song']\n",
    "            lyrics = row['lyrics']\n",
    "            \n",
    "            # Use the provided get_embedding function to get the embedding for the lyrics\n",
    "            embedding = get_embedding(lyrics)\n",
    "            \n",
    "            # Create a JSON object for the current song and its embedding\n",
    "            song_embedding_json = json.dumps({song_title: embedding})\n",
    "            \n",
    "            # Write the JSON object to the file on a new line\n",
    "            outfile.write(song_embedding_json + '\\n')\n",
    "    \n",
    "    print(f\"Embeddings saved to {output_file_name}\")"
   ]
  },
  {
   "cell_type": "markdown",
   "metadata": {},
   "source": [
    "Test the performance use 10 random song -- "
   ]
  },
  {
   "cell_type": "code",
   "execution_count": 68,
   "metadata": {},
   "outputs": [],
   "source": [
    "test_df_drop = df_drop.sample(10)"
   ]
  },
  {
   "cell_type": "code",
   "execution_count": 69,
   "metadata": {},
   "outputs": [
    {
     "data": {
      "text/html": [
       "<div>\n",
       "<style scoped>\n",
       "    .dataframe tbody tr th:only-of-type {\n",
       "        vertical-align: middle;\n",
       "    }\n",
       "\n",
       "    .dataframe tbody tr th {\n",
       "        vertical-align: top;\n",
       "    }\n",
       "\n",
       "    .dataframe thead th {\n",
       "        text-align: right;\n",
       "    }\n",
       "</style>\n",
       "<table border=\"1\" class=\"dataframe\">\n",
       "  <thead>\n",
       "    <tr style=\"text-align: right;\">\n",
       "      <th></th>\n",
       "      <th>song</th>\n",
       "      <th>lyrics</th>\n",
       "      <th>lyrics_tokens</th>\n",
       "    </tr>\n",
       "  </thead>\n",
       "  <tbody>\n",
       "    <tr>\n",
       "      <th>21502</th>\n",
       "      <td>Don't Disturb This Groove - The System</td>\n",
       "      <td>\\n\\nOoh, hoo, hoo\\nBaby\\nHoo, hoo, hoo\\n\\nI'm ...</td>\n",
       "      <td>[271, 46, 2319, 11, 305, 2689, 11, 305, 2689, ...</td>\n",
       "    </tr>\n",
       "    <tr>\n",
       "      <th>16032</th>\n",
       "      <td>Our Country - John Mellencamp</td>\n",
       "      <td>Well I can stand beside\\nIdeals I think are ri...</td>\n",
       "      <td>[11649, 358, 649, 2559, 30488, 198, 75344, 114...</td>\n",
       "    </tr>\n",
       "    <tr>\n",
       "      <th>9245</th>\n",
       "      <td>I Wonder What She's Doing Tonight - Barry &amp; Th...</td>\n",
       "      <td>Can't help it if I wonder, wonder what she's d...</td>\n",
       "      <td>[6854, 956, 1520, 433, 422, 358, 5895, 11, 589...</td>\n",
       "    </tr>\n",
       "    <tr>\n",
       "      <th>29278</th>\n",
       "      <td>Carolina In My Mind - Crystal Mansion Featurin...</td>\n",
       "      <td>\\n\\nIn my mind, I'm going to Carolina\\nCan't y...</td>\n",
       "      <td>[271, 644, 856, 4059, 11, 358, 2846, 2133, 311...</td>\n",
       "    </tr>\n",
       "    <tr>\n",
       "      <th>10747</th>\n",
       "      <td>Slow Hands - Niall Horan</td>\n",
       "      <td>\\n\\n(Woo)\\n\\n\"We should take this back to my p...</td>\n",
       "      <td>[271, 14358, 2689, 696, 10944, 1288, 1935, 420...</td>\n",
       "    </tr>\n",
       "    <tr>\n",
       "      <th>14267</th>\n",
       "      <td>It Just Comes Natural - George Strait</td>\n",
       "      <td>\\n\\nSun shines, clouds rain\\nTrain whistles bl...</td>\n",
       "      <td>[271, 31192, 65880, 11, 30614, 11422, 198, 357...</td>\n",
       "    </tr>\n",
       "    <tr>\n",
       "      <th>21599</th>\n",
       "      <td>Don't Let The Sun Catch You Cryin' - Ray Charles</td>\n",
       "      <td>\\n\\nDon't let the sun catch you cryin'\\nCryin'...</td>\n",
       "      <td>[271, 8161, 956, 1095, 279, 7160, 2339, 499, 1...</td>\n",
       "    </tr>\n",
       "    <tr>\n",
       "      <th>18122</th>\n",
       "      <td>Why Is The Wine Sweeter (On The Other Side) - ...</td>\n",
       "      <td>Why is the wine sweeter on the other side? Yea...</td>\n",
       "      <td>[10445, 374, 279, 13378, 10769, 1430, 389, 279...</td>\n",
       "    </tr>\n",
       "    <tr>\n",
       "      <th>29931</th>\n",
       "      <td>Call Me - Chris Montez</td>\n",
       "      <td>\\n\\nIf you're feeling sad and lonely\\nThere's ...</td>\n",
       "      <td>[271, 2746, 499, 2351, 8430, 12703, 323, 40666...</td>\n",
       "    </tr>\n",
       "    <tr>\n",
       "      <th>16620</th>\n",
       "      <td>Here We Are - Gloria Estefan</td>\n",
       "      <td>Here we are, face to face\\nWe forget, time and...</td>\n",
       "      <td>[8586, 584, 527, 11, 3663, 311, 3663, 198, 168...</td>\n",
       "    </tr>\n",
       "  </tbody>\n",
       "</table>\n",
       "</div>"
      ],
      "text/plain": [
       "                                                    song  \\\n",
       "21502             Don't Disturb This Groove - The System   \n",
       "16032                      Our Country - John Mellencamp   \n",
       "9245   I Wonder What She's Doing Tonight - Barry & Th...   \n",
       "29278  Carolina In My Mind - Crystal Mansion Featurin...   \n",
       "10747                           Slow Hands - Niall Horan   \n",
       "14267              It Just Comes Natural - George Strait   \n",
       "21599   Don't Let The Sun Catch You Cryin' - Ray Charles   \n",
       "18122  Why Is The Wine Sweeter (On The Other Side) - ...   \n",
       "29931                             Call Me - Chris Montez   \n",
       "16620                       Here We Are - Gloria Estefan   \n",
       "\n",
       "                                                  lyrics  \\\n",
       "21502  \\n\\nOoh, hoo, hoo\\nBaby\\nHoo, hoo, hoo\\n\\nI'm ...   \n",
       "16032  Well I can stand beside\\nIdeals I think are ri...   \n",
       "9245   Can't help it if I wonder, wonder what she's d...   \n",
       "29278  \\n\\nIn my mind, I'm going to Carolina\\nCan't y...   \n",
       "10747  \\n\\n(Woo)\\n\\n\"We should take this back to my p...   \n",
       "14267  \\n\\nSun shines, clouds rain\\nTrain whistles bl...   \n",
       "21599  \\n\\nDon't let the sun catch you cryin'\\nCryin'...   \n",
       "18122  Why is the wine sweeter on the other side? Yea...   \n",
       "29931  \\n\\nIf you're feeling sad and lonely\\nThere's ...   \n",
       "16620  Here we are, face to face\\nWe forget, time and...   \n",
       "\n",
       "                                           lyrics_tokens  \n",
       "21502  [271, 46, 2319, 11, 305, 2689, 11, 305, 2689, ...  \n",
       "16032  [11649, 358, 649, 2559, 30488, 198, 75344, 114...  \n",
       "9245   [6854, 956, 1520, 433, 422, 358, 5895, 11, 589...  \n",
       "29278  [271, 644, 856, 4059, 11, 358, 2846, 2133, 311...  \n",
       "10747  [271, 14358, 2689, 696, 10944, 1288, 1935, 420...  \n",
       "14267  [271, 31192, 65880, 11, 30614, 11422, 198, 357...  \n",
       "21599  [271, 8161, 956, 1095, 279, 7160, 2339, 499, 1...  \n",
       "18122  [10445, 374, 279, 13378, 10769, 1430, 389, 279...  \n",
       "29931  [271, 2746, 499, 2351, 8430, 12703, 323, 40666...  \n",
       "16620  [8586, 584, 527, 11, 3663, 311, 3663, 198, 168...  "
      ]
     },
     "execution_count": 69,
     "metadata": {},
     "output_type": "execute_result"
    }
   ],
   "source": [
    "test_df_drop"
   ]
  },
  {
   "cell_type": "code",
   "execution_count": 72,
   "metadata": {},
   "outputs": [
    {
     "name": "stderr",
     "output_type": "stream",
     "text": [
      "Processing songs: 100%|██████████| 10/10 [00:01<00:00,  5.14it/s]"
     ]
    },
    {
     "name": "stdout",
     "output_type": "stream",
     "text": [
      "Embeddings saved to test_song_lyrics_embeddings.json\n"
     ]
    },
    {
     "name": "stderr",
     "output_type": "stream",
     "text": [
      "\n"
     ]
    }
   ],
   "source": [
    "create_lyrics_embedding_json_line_by_line(test_df_drop, \"test_song_lyrics_embeddings.json\")"
   ]
  },
  {
   "cell_type": "markdown",
   "metadata": {},
   "source": [
    "## Try parallelize request\n",
    "\n",
    "- This is the code I modified from online when exploring the usage example around [OpenAI forum](https://platform.openai.com/docs/guides/embeddings/use-cases)\n",
    "\n",
    "The code snippet below allow us to make multiple number of calls (see `workers` parameter) --- as long as the total token passed into the API is within limit, it can request much efficiently."
   ]
  },
  {
   "cell_type": "code",
   "execution_count": 78,
   "metadata": {},
   "outputs": [],
   "source": [
    "import pandas as pd\n",
    "import json\n",
    "from tqdm import tqdm\n",
    "from concurrent.futures import ThreadPoolExecutor, as_completed\n",
    "\n",
    "# https://platform.openai.com/docs/guides/embeddings/use-cases\n",
    "\n",
    "# Function to be executed in parallel\n",
    "def get_embedding_for_song(row):\n",
    "    song_title = row['song']\n",
    "    lyrics = row['lyrics']\n",
    "    embedding = get_embedding(lyrics)  # Make the API call to get the embedding\n",
    "    return song_title, embedding\n",
    "\n",
    "def create_lyrics_embedding_json_parallel(df, output_file_name=\"song_lyrics_embeddings_parallel.json\", workers=8):\n",
    "    with open(output_file_name, 'w') as outfile, ThreadPoolExecutor(max_workers=workers) as executor:\n",
    "        # Use a dictionary to keep track of futures, with the song title as the key\n",
    "        future_to_song = {executor.submit(get_embedding_for_song, row): row['song'] for _, row in df.iterrows()}\n",
    "        \n",
    "        # Process completed futures as they complete\n",
    "        for future in tqdm(as_completed(future_to_song), total=len(df), desc=\"Processing songs\"):\n",
    "            song_title = future_to_song[future]\n",
    "            try:\n",
    "                # Get the result from the future\n",
    "                song_title, embedding = future.result()\n",
    "                # Create a JSON object for the current song and its embedding\n",
    "                song_embedding_json = json.dumps({song_title: embedding})\n",
    "                # Write the JSON object to the file on a new line\n",
    "                outfile.write(song_embedding_json + '\\n')\n",
    "            except Exception as exc:\n",
    "                print(f'{song_title} generated an exception: {exc}')\n",
    "\n",
    "    print(f\"Embeddings saved to {output_file_name}\")"
   ]
  },
  {
   "cell_type": "code",
   "execution_count": 79,
   "metadata": {},
   "outputs": [
    {
     "name": "stderr",
     "output_type": "stream",
     "text": [
      "Processing songs: 100%|██████████| 100/100 [00:03<00:00, 32.31it/s]"
     ]
    },
    {
     "name": "stdout",
     "output_type": "stream",
     "text": [
      "Embeddings saved to test_song_lyrics_embeddings_parallel.json\n"
     ]
    },
    {
     "name": "stderr",
     "output_type": "stream",
     "text": [
      "\n"
     ]
    }
   ],
   "source": [
    "## testing on a small sample\n",
    "df_test_2 = df_drop.sample(100)\n",
    "\n",
    "create_lyrics_embedding_json_parallel(df_test_2, \"test_song_lyrics_embeddings_parallel.json\", workers=8)"
   ]
  },
  {
   "cell_type": "markdown",
   "metadata": {},
   "source": [
    "### Here is the final call to get the full lyrics embedding"
   ]
  },
  {
   "cell_type": "code",
   "execution_count": 80,
   "metadata": {},
   "outputs": [
    {
     "name": "stderr",
     "output_type": "stream",
     "text": [
      "Processing songs: 100%|██████████| 26221/26221 [05:57<00:00, 73.37it/s] \n"
     ]
    },
    {
     "name": "stdout",
     "output_type": "stream",
     "text": [
      "Embeddings saved to song_lyrics_embeddings_26211.json\n"
     ]
    }
   ],
   "source": [
    "## Get the full embeddings for the entire dataframe\n",
    "\n",
    "create_lyrics_embedding_json_parallel(df_drop, \"song_lyrics_embeddings_26211.json\", workers=25)"
   ]
  },
  {
   "cell_type": "markdown",
   "metadata": {},
   "source": [
    "### See how the embeddings look like"
   ]
  },
  {
   "cell_type": "code",
   "execution_count": 73,
   "metadata": {},
   "outputs": [],
   "source": [
    "# read the embeddings from the json file\n",
    "\n",
    "def read_lyrics_embeddings_from_json(file_name):\n",
    "    # Create an empty dictionary to store the embeddings\n",
    "    embeddings = {}\n",
    "    \n",
    "    # Open the JSON file and read each line\n",
    "    with open(file_name, 'r') as infile:\n",
    "        for line in infile:\n",
    "            # Parse the JSON object from the line\n",
    "            song_embedding = json.loads(line)\n",
    "            \n",
    "            # Update the embeddings dictionary with the song and its embedding\n",
    "            embeddings.update(song_embedding)\n",
    "    \n",
    "    return embeddings"
   ]
  },
  {
   "cell_type": "code",
   "execution_count": 84,
   "metadata": {},
   "outputs": [],
   "source": [
    "embedding_dict = read_lyrics_embeddings_from_json(\"song_lyrics_embeddings_26211.json\")"
   ]
  },
  {
   "cell_type": "code",
   "execution_count": 86,
   "metadata": {},
   "outputs": [],
   "source": [
    "embedding_df = pd.DataFrame(embedding_dict).T"
   ]
  },
  {
   "cell_type": "code",
   "execution_count": 88,
   "metadata": {},
   "outputs": [
    {
     "data": {
      "text/html": [
       "<div>\n",
       "<style scoped>\n",
       "    .dataframe tbody tr th:only-of-type {\n",
       "        vertical-align: middle;\n",
       "    }\n",
       "\n",
       "    .dataframe tbody tr th {\n",
       "        vertical-align: top;\n",
       "    }\n",
       "\n",
       "    .dataframe thead th {\n",
       "        text-align: right;\n",
       "    }\n",
       "</style>\n",
       "<table border=\"1\" class=\"dataframe\">\n",
       "  <thead>\n",
       "    <tr style=\"text-align: right;\">\n",
       "      <th></th>\n",
       "      <th>0</th>\n",
       "      <th>1</th>\n",
       "      <th>2</th>\n",
       "      <th>3</th>\n",
       "      <th>4</th>\n",
       "      <th>5</th>\n",
       "      <th>6</th>\n",
       "      <th>7</th>\n",
       "      <th>8</th>\n",
       "      <th>9</th>\n",
       "      <th>...</th>\n",
       "      <th>1526</th>\n",
       "      <th>1527</th>\n",
       "      <th>1528</th>\n",
       "      <th>1529</th>\n",
       "      <th>1530</th>\n",
       "      <th>1531</th>\n",
       "      <th>1532</th>\n",
       "      <th>1533</th>\n",
       "      <th>1534</th>\n",
       "      <th>1535</th>\n",
       "    </tr>\n",
       "  </thead>\n",
       "  <tbody>\n",
       "    <tr>\n",
       "      <th>Glory Glory - The Rascals</th>\n",
       "      <td>0.019660</td>\n",
       "      <td>-0.020099</td>\n",
       "      <td>-0.010454</td>\n",
       "      <td>-0.004532</td>\n",
       "      <td>0.013134</td>\n",
       "      <td>-0.027267</td>\n",
       "      <td>0.006514</td>\n",
       "      <td>0.021918</td>\n",
       "      <td>-0.036419</td>\n",
       "      <td>-0.028432</td>\n",
       "      <td>...</td>\n",
       "      <td>0.018352</td>\n",
       "      <td>0.012599</td>\n",
       "      <td>-0.018126</td>\n",
       "      <td>-0.018519</td>\n",
       "      <td>-0.013705</td>\n",
       "      <td>-0.001575</td>\n",
       "      <td>-0.013241</td>\n",
       "      <td>0.014109</td>\n",
       "      <td>0.014477</td>\n",
       "      <td>-0.003896</td>\n",
       "    </tr>\n",
       "    <tr>\n",
       "      <th>Glory And Gore - Lorde</th>\n",
       "      <td>0.025850</td>\n",
       "      <td>0.033453</td>\n",
       "      <td>-0.000686</td>\n",
       "      <td>-0.040908</td>\n",
       "      <td>0.026106</td>\n",
       "      <td>0.015394</td>\n",
       "      <td>0.018126</td>\n",
       "      <td>-0.008162</td>\n",
       "      <td>-0.010631</td>\n",
       "      <td>-0.019189</td>\n",
       "      <td>...</td>\n",
       "      <td>-0.003058</td>\n",
       "      <td>0.026268</td>\n",
       "      <td>0.020885</td>\n",
       "      <td>0.001045</td>\n",
       "      <td>-0.016821</td>\n",
       "      <td>0.033130</td>\n",
       "      <td>-0.006348</td>\n",
       "      <td>0.037248</td>\n",
       "      <td>0.000222</td>\n",
       "      <td>-0.022580</td>\n",
       "    </tr>\n",
       "    <tr>\n",
       "      <th>Glory Bound - The Grass Roots</th>\n",
       "      <td>0.018392</td>\n",
       "      <td>-0.024729</td>\n",
       "      <td>0.033644</td>\n",
       "      <td>0.013453</td>\n",
       "      <td>-0.003710</td>\n",
       "      <td>0.017475</td>\n",
       "      <td>0.007019</td>\n",
       "      <td>-0.033461</td>\n",
       "      <td>-0.024958</td>\n",
       "      <td>-0.009081</td>\n",
       "      <td>...</td>\n",
       "      <td>0.001949</td>\n",
       "      <td>-0.000857</td>\n",
       "      <td>-0.001960</td>\n",
       "      <td>-0.032865</td>\n",
       "      <td>0.003349</td>\n",
       "      <td>0.001879</td>\n",
       "      <td>-0.013659</td>\n",
       "      <td>0.041115</td>\n",
       "      <td>0.015871</td>\n",
       "      <td>-0.015218</td>\n",
       "    </tr>\n",
       "    <tr>\n",
       "      <th>Gnarly - Kodak Black Featuring Lil Pump</th>\n",
       "      <td>0.019684</td>\n",
       "      <td>-0.033211</td>\n",
       "      <td>-0.068927</td>\n",
       "      <td>0.046591</td>\n",
       "      <td>-0.009129</td>\n",
       "      <td>0.000484</td>\n",
       "      <td>0.024215</td>\n",
       "      <td>0.001563</td>\n",
       "      <td>-0.021297</td>\n",
       "      <td>0.006690</td>\n",
       "      <td>...</td>\n",
       "      <td>-0.022776</td>\n",
       "      <td>0.001654</td>\n",
       "      <td>-0.007710</td>\n",
       "      <td>-0.023189</td>\n",
       "      <td>0.022656</td>\n",
       "      <td>0.026108</td>\n",
       "      <td>0.017525</td>\n",
       "      <td>0.026307</td>\n",
       "      <td>-0.021856</td>\n",
       "      <td>0.036303</td>\n",
       "    </tr>\n",
       "    <tr>\n",
       "      <th>Glory Of Love (Theme From \"The Karate Kid Part II\") - Peter Cetera</th>\n",
       "      <td>-0.014440</td>\n",
       "      <td>-0.022377</td>\n",
       "      <td>-0.019065</td>\n",
       "      <td>-0.051136</td>\n",
       "      <td>-0.001533</td>\n",
       "      <td>-0.016778</td>\n",
       "      <td>-0.007431</td>\n",
       "      <td>-0.018785</td>\n",
       "      <td>-0.017681</td>\n",
       "      <td>0.012302</td>\n",
       "      <td>...</td>\n",
       "      <td>0.008584</td>\n",
       "      <td>0.023380</td>\n",
       "      <td>-0.002802</td>\n",
       "      <td>-0.010837</td>\n",
       "      <td>0.007014</td>\n",
       "      <td>0.021755</td>\n",
       "      <td>0.001958</td>\n",
       "      <td>0.029160</td>\n",
       "      <td>0.009372</td>\n",
       "      <td>-0.016888</td>\n",
       "    </tr>\n",
       "  </tbody>\n",
       "</table>\n",
       "<p>5 rows × 1536 columns</p>\n",
       "</div>"
      ],
      "text/plain": [
       "                                                        0         1     \\\n",
       "Glory Glory - The Rascals                           0.019660 -0.020099   \n",
       "Glory And Gore - Lorde                              0.025850  0.033453   \n",
       "Glory Bound - The Grass Roots                       0.018392 -0.024729   \n",
       "Gnarly - Kodak Black Featuring Lil Pump             0.019684 -0.033211   \n",
       "Glory Of Love (Theme From \"The Karate Kid Part ... -0.014440 -0.022377   \n",
       "\n",
       "                                                        2         3     \\\n",
       "Glory Glory - The Rascals                          -0.010454 -0.004532   \n",
       "Glory And Gore - Lorde                             -0.000686 -0.040908   \n",
       "Glory Bound - The Grass Roots                       0.033644  0.013453   \n",
       "Gnarly - Kodak Black Featuring Lil Pump            -0.068927  0.046591   \n",
       "Glory Of Love (Theme From \"The Karate Kid Part ... -0.019065 -0.051136   \n",
       "\n",
       "                                                        4         5     \\\n",
       "Glory Glory - The Rascals                           0.013134 -0.027267   \n",
       "Glory And Gore - Lorde                              0.026106  0.015394   \n",
       "Glory Bound - The Grass Roots                      -0.003710  0.017475   \n",
       "Gnarly - Kodak Black Featuring Lil Pump            -0.009129  0.000484   \n",
       "Glory Of Love (Theme From \"The Karate Kid Part ... -0.001533 -0.016778   \n",
       "\n",
       "                                                        6         7     \\\n",
       "Glory Glory - The Rascals                           0.006514  0.021918   \n",
       "Glory And Gore - Lorde                              0.018126 -0.008162   \n",
       "Glory Bound - The Grass Roots                       0.007019 -0.033461   \n",
       "Gnarly - Kodak Black Featuring Lil Pump             0.024215  0.001563   \n",
       "Glory Of Love (Theme From \"The Karate Kid Part ... -0.007431 -0.018785   \n",
       "\n",
       "                                                        8         9     ...  \\\n",
       "Glory Glory - The Rascals                          -0.036419 -0.028432  ...   \n",
       "Glory And Gore - Lorde                             -0.010631 -0.019189  ...   \n",
       "Glory Bound - The Grass Roots                      -0.024958 -0.009081  ...   \n",
       "Gnarly - Kodak Black Featuring Lil Pump            -0.021297  0.006690  ...   \n",
       "Glory Of Love (Theme From \"The Karate Kid Part ... -0.017681  0.012302  ...   \n",
       "\n",
       "                                                        1526      1527  \\\n",
       "Glory Glory - The Rascals                           0.018352  0.012599   \n",
       "Glory And Gore - Lorde                             -0.003058  0.026268   \n",
       "Glory Bound - The Grass Roots                       0.001949 -0.000857   \n",
       "Gnarly - Kodak Black Featuring Lil Pump            -0.022776  0.001654   \n",
       "Glory Of Love (Theme From \"The Karate Kid Part ...  0.008584  0.023380   \n",
       "\n",
       "                                                        1528      1529  \\\n",
       "Glory Glory - The Rascals                          -0.018126 -0.018519   \n",
       "Glory And Gore - Lorde                              0.020885  0.001045   \n",
       "Glory Bound - The Grass Roots                      -0.001960 -0.032865   \n",
       "Gnarly - Kodak Black Featuring Lil Pump            -0.007710 -0.023189   \n",
       "Glory Of Love (Theme From \"The Karate Kid Part ... -0.002802 -0.010837   \n",
       "\n",
       "                                                        1530      1531  \\\n",
       "Glory Glory - The Rascals                          -0.013705 -0.001575   \n",
       "Glory And Gore - Lorde                             -0.016821  0.033130   \n",
       "Glory Bound - The Grass Roots                       0.003349  0.001879   \n",
       "Gnarly - Kodak Black Featuring Lil Pump             0.022656  0.026108   \n",
       "Glory Of Love (Theme From \"The Karate Kid Part ...  0.007014  0.021755   \n",
       "\n",
       "                                                        1532      1533  \\\n",
       "Glory Glory - The Rascals                          -0.013241  0.014109   \n",
       "Glory And Gore - Lorde                             -0.006348  0.037248   \n",
       "Glory Bound - The Grass Roots                      -0.013659  0.041115   \n",
       "Gnarly - Kodak Black Featuring Lil Pump             0.017525  0.026307   \n",
       "Glory Of Love (Theme From \"The Karate Kid Part ...  0.001958  0.029160   \n",
       "\n",
       "                                                        1534      1535  \n",
       "Glory Glory - The Rascals                           0.014477 -0.003896  \n",
       "Glory And Gore - Lorde                              0.000222 -0.022580  \n",
       "Glory Bound - The Grass Roots                       0.015871 -0.015218  \n",
       "Gnarly - Kodak Black Featuring Lil Pump            -0.021856  0.036303  \n",
       "Glory Of Love (Theme From \"The Karate Kid Part ...  0.009372 -0.016888  \n",
       "\n",
       "[5 rows x 1536 columns]"
      ]
     },
     "execution_count": 88,
     "metadata": {},
     "output_type": "execute_result"
    }
   ],
   "source": [
    "embedding_df.head()"
   ]
  },
  {
   "cell_type": "code",
   "execution_count": 94,
   "metadata": {},
   "outputs": [],
   "source": [
    "test_df_ebd= embedding_df.sample(1000)"
   ]
  },
  {
   "cell_type": "code",
   "execution_count": 95,
   "metadata": {},
   "outputs": [
    {
     "data": {
      "image/png": "[encoded data removed]",
      "text/plain": [
       "<Figure size 1000x1000 with 1 Axes>"
      ]
     },
     "metadata": {},
     "output_type": "display_data"
    }
   ],
   "source": [
    "# visualize the embeddings using TSNE\n",
    "\n",
    "import pandas as pd\n",
    "from sklearn.manifold import TSNE\n",
    "import matplotlib.pyplot as plt\n",
    "import matplotlib\n",
    "\n",
    "tsne = TSNE(n_components=2, random_state=0, n_iter=10000, perplexity=50)\n",
    "\n",
    "# Fit and transform the embeddings using TSNE\n",
    "embeddings_2d = tsne.fit_transform(test_df_ebd)\n",
    "\n",
    "# Create a DataFrame for the 2D embeddings\n",
    "\n",
    "embedding_2d_df = pd.DataFrame(embeddings_2d, columns=['x', 'y'], index=test_df_ebd.index)\n",
    "\n",
    "# Plot the 2D embeddings\n",
    "\n",
    "plt.figure(figsize=(10, 10))\n",
    "plt.scatter(embedding_2d_df['x'], embedding_2d_df['y'], alpha=0.5)\n",
    "plt.title('2D TSNE Embeddings of Song Lyrics')\n",
    "plt.xlabel('x')\n",
    "plt.ylabel('y')\n",
    "plt.show()\n",
    "\n"
   ]
  },
  {
   "cell_type": "markdown",
   "metadata": {},
   "source": [
    "References:\n",
    "\n",
    "https://cookbook.openai.com/examples/zero-shot_classification_with_embeddings\n",
    "\n",
    "https://platform.openai.com/docs/guides/embeddings/use-cases\n",
    "\n",
    "https://cookbook.openai.com/examples/question_answering_using_embeddings"
   ]
  },
  {
   "cell_type": "markdown",
   "metadata": {},
   "source": [
    "# "
   ]
  },
  {
   "cell_type": "markdown",
   "metadata": {},
   "source": [
    "## Themes\n",
    "\n",
    "Using a similar pipeline, we can ask GPT to code the lyric into themes\n",
    "\n",
    "Procedure:\n",
    "- Select some `themes` we want to investigate (this is related to our interest and literature review)\n",
    "- Construct prompts --- just like how you are going to use ChatGPT, but this time, you have to ensure she's replying with a consistant output that fit your tasks requirement. During our project exploration, we tried many way to prompt it, and we are presenting here is a *somehow* reliable one we used in the end.\n",
    "\n",
    "In future project with more time and budget, it is more sensible to cross validate the coding with different strategy:\n",
    "- More than one-shot coding\n",
    "- various prompts\n",
    "- more models\n",
    "- use sub sample of the lyrics "
   ]
  },
  {
   "cell_type": "code",
   "execution_count": 99,
   "metadata": {},
   "outputs": [],
   "source": [
    "themes = [\n",
    "         \"Religion\",\n",
    "         \"Love\", \n",
    "         \"Heartbreak\", \n",
    "         \"Family\",\n",
    "         \"Individuality\", \n",
    "         \"Friendship\",\n",
    "         \"Community\",\n",
    "         \"Violence\",\n",
    "         \"Sexuality\",\n",
    "         \"Celebration\", \n",
    "         \"Struggle\",\n",
    "         \"Wealth\",\n",
    "         \"Adventure\",\n",
    "         \"Fantasy\"\n",
    "         \"Nostalgia\",\n",
    "         \"Nature\",\n",
    "         \"Politics\",\n",
    "         \"Feminism\"  \n",
    "]"
   ]
  },
  {
   "cell_type": "code",
   "execution_count": 107,
   "metadata": {},
   "outputs": [
    {
     "data": {
      "text/plain": [
       "['Adventure',\n",
       " 'Celebration',\n",
       " 'Community',\n",
       " 'Family',\n",
       " 'FantasyNostalgia',\n",
       " 'Feminism',\n",
       " 'Friendship',\n",
       " 'Heartbreak',\n",
       " 'Individuality',\n",
       " 'Love',\n",
       " 'Nature',\n",
       " 'Politics',\n",
       " 'Religion',\n",
       " 'Sexuality',\n",
       " 'Struggle',\n",
       " 'Violence',\n",
       " 'Wealth']"
      ]
     },
     "execution_count": 107,
     "metadata": {},
     "output_type": "execute_result"
    }
   ],
   "source": [
    "# rank the themes in alphabetical order\n",
    "themes.sort()\n",
    "themes"
   ]
  },
  {
   "cell_type": "markdown",
   "metadata": {},
   "source": [
    "### Here is the main function for prompting and request from OpenAI\n",
    "\n",
    "\n",
    "- To modify the prompt: edit the messages section accordingly. [Link to documentation](https://platform.openai.com/docs/guides/text-generation)"
   ]
  },
  {
   "cell_type": "code",
   "execution_count": 108,
   "metadata": {},
   "outputs": [],
   "source": [
    "import pandas as pd\n",
    "import json\n",
    "from tqdm import tqdm\n",
    "from concurrent.futures import ThreadPoolExecutor, as_completed\n",
    "\n",
    "\n",
    "def tag_lyrics_with_theme(row, themes):\n",
    "    \"\"\"\n",
    "    Tag the lyrics of a song with the relevant themes using OpenAI's GPT-3.5 chat model.\n",
    "\n",
    "    Args:\n",
    "    - row: A row of the DataFrame containing the song title and lyrics\n",
    "    - themes: A list of themes to be tagged\n",
    "\n",
    "    Returns:\n",
    "    - song_title: The title of the song\n",
    "    - themes_identified: The themes identified in the lyrics by GPT-3.5\n",
    "\n",
    "    \"\"\"\n",
    "    song_title = row['song']\n",
    "    lyrics = row['lyrics']\n",
    "    theme_list = \", \".join(themes)\n",
    "    \n",
    "    messages = [\n",
    "        {\"role\": \"system\", \"content\": f\"\"\"\n",
    "        Read the lyrics of the song titled '{song_title}'. Based on the content and emotions expressed in the lyrics, \n",
    "        identify which of the following themes are represented: \n",
    "        *** {theme_list} ***. \n",
    "\n",
    "        Please select and respond with ALL the relevant themes from the above list in a comma-separated format. \n",
    "        In your respond, only include words from the themes given above.\n",
    "        \"\"\"},\n",
    "        {\"role\": \"user\", \"content\": lyrics}\n",
    "    ]\n",
    "\n",
    "    # Send the query to OpenAI's GPT-3.5 using the chat model\n",
    "    response = client.chat.completions.create(\n",
    "        model=\"gpt-3.5-turbo\",\n",
    "        messages=messages,\n",
    "        max_tokens=1024,\n",
    "        temperature=0.7,\n",
    "    )\n",
    "    # Extracting the relevant part of the response\n",
    "    themes_identified = response.choices[0].message.content.strip()\n",
    "\n",
    "    return song_title, themes_identified\n",
    "\n",
    "def tag_song_lyrics_with_themes(df, themes, output_file_path=\"song_themes.json\", workers=10):\n",
    "    \n",
    "    with open(output_file_path, 'w') as outfile, ThreadPoolExecutor(max_workers=workers) as executor:\n",
    "        # Submit all the tasks to the executor\n",
    "        future_to_song = {executor.submit(tag_lyrics_with_theme, row, themes): row['song'] for _, row in df.iterrows()}\n",
    "        \n",
    "        # Process the futures as they complete\n",
    "        for future in tqdm(as_completed(future_to_song), total=len(df), desc=\"Tagging songs\"):\n",
    "            song_title = future_to_song[future]\n",
    "            try:\n",
    "                song_title, themes_identified = future.result()\n",
    "                # Write the song title and identified themes as a JSON object to the file\n",
    "                song_theme_json = json.dumps({song_title: themes_identified})\n",
    "                outfile.write(song_theme_json + '\\n')\n",
    "            except Exception as exc:\n",
    "                print(f'{song_title} generated an exception: {exc}')\n",
    "\n",
    "    print(f\"Themes tagged and saved to {output_file_path}\")"
   ]
  },
  {
   "cell_type": "markdown",
   "metadata": {},
   "source": [
    "#### Again, test with a small sample first"
   ]
  },
  {
   "cell_type": "code",
   "execution_count": 106,
   "metadata": {},
   "outputs": [
    {
     "name": "stderr",
     "output_type": "stream",
     "text": [
      "Tagging songs:   0%|          | 0/100 [00:00<?, ?it/s]"
     ]
    },
    {
     "name": "stderr",
     "output_type": "stream",
     "text": [
      "Tagging songs: 100%|██████████| 100/100 [00:05<00:00, 18.70it/s]"
     ]
    },
    {
     "name": "stdout",
     "output_type": "stream",
     "text": [
      "Themes tagged and saved to song_themes_100.json\n"
     ]
    },
    {
     "name": "stderr",
     "output_type": "stream",
     "text": [
      "\n"
     ]
    }
   ],
   "source": [
    "sample_drop = df_drop.sample(100)\n",
    "\n",
    "tag_song_lyrics_with_themes(sample_drop, themes, \"song_themes_100.json\", workers=10)"
   ]
  },
  {
   "cell_type": "markdown",
   "metadata": {},
   "source": [
    "Fully operate on the entire dataframe"
   ]
  },
  {
   "cell_type": "code",
   "execution_count": 109,
   "metadata": {},
   "outputs": [
    {
     "name": "stderr",
     "output_type": "stream",
     "text": [
      "Tagging songs: 100%|██████████| 26221/26221 [28:43<00:00, 15.21it/s]"
     ]
    },
    {
     "name": "stdout",
     "output_type": "stream",
     "text": [
      "Themes tagged and saved to song_themes_26211.json\n"
     ]
    },
    {
     "name": "stderr",
     "output_type": "stream",
     "text": [
      "\n"
     ]
    }
   ],
   "source": [
    "# operate fully on the entire dataframe\n",
    "\n",
    "tag_song_lyrics_with_themes(df_drop, themes, \"song_themes_26211.json\", workers=40)"
   ]
  },
  {
   "cell_type": "markdown",
   "metadata": {},
   "source": [
    "In total, it take around 30 minutes and 8 dollars ask gpt-3.5-turbo to code the themes.\n",
    "\n",
    "NOTE: the visualization and exploration of themes are demonstrated in the visualization. (see `data_merge.ipynb` and visualization folder)"
   ]
  }
 ],
 "metadata": {
  "kernelspec": {
   "display_name": "Python 3",
   "language": "python",
   "name": "python3"
  },
  "language_info": {
   "codemirror_mode": {
    "name": "ipython",
    "version": 3
   },
   "file_extension": ".py",
   "mimetype": "text/x-python",
   "name": "python",
   "nbconvert_exporter": "python",
   "pygments_lexer": "ipython3",
   "version": "3.12.0"
  }
 },
 "nbformat": 4,
 "nbformat_minor": 2
}
