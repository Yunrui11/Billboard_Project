{
 "cells": [
  {
   "cell_type": "markdown",
   "metadata": {},
   "source": [
    "### Billboard US Webscrapping "
   ]
  },
  {
   "cell_type": "markdown",
   "metadata": {},
   "source": [
    "The Jupyter notebook is what we used to scrape the billboard hot 100 data from 2021 to 2023. "
   ]
  },
  {
   "cell_type": "code",
   "execution_count": 2,
   "metadata": {},
   "outputs": [],
   "source": [
    "# import scraping libraries\n",
    "import requests                      # to request/get data from websites\n",
    "from bs4 import BeautifulSoup as bs  # to parse and extract data from websites\n",
    "\n",
    "# import other libraries\n",
    "import time\n",
    "import random\n",
    "import pandas as pd\n",
    "import numpy as np\n",
    "import re\n",
    "import datetime"
   ]
  },
  {
   "cell_type": "code",
   "execution_count": 3,
   "metadata": {},
   "outputs": [],
   "source": [
    "# get the dates of all Saturdays in a given year in order to create the lists of URLS for scraping\n",
    "def all_saturdays(year):\n",
    "  dates = []\n",
    "  \"\"\"Generator that yields all Saturdays in a given year.\"\"\"\n",
    "  # January 1st of the given year\n",
    "  dt = datetime.date(year, 1, 1)\n",
    "\n",
    "  # First Saturday of the given year\n",
    "  dt += datetime.timedelta(days=6 - dt.weekday())\n",
    "\n",
    "  while dt.year == year:\n",
    "    yield dt\n",
    "    dt += datetime.timedelta(days=7)\n"
   ]
  },
  {
   "cell_type": "code",
   "execution_count": 13,
   "metadata": {},
   "outputs": [],
   "source": [
    "# get the dates of all Saturdays in 2021 that kaggle data is not aviailable for\n",
    "dt2021 = all_saturdays(2021)\n",
    "y3 = [str(r) for r in dt2021]\n",
    "y_gap = y3[45:52]"
   ]
  },
  {
   "cell_type": "code",
   "execution_count": 14,
   "metadata": {},
   "outputs": [],
   "source": [
    "# get the dates of all Saturdays in 2022 and 2023\n",
    "dt2023= all_saturdays(2023)\n",
    "y1 = [str(r) for r in dt2023]\n",
    "dt2022 = all_saturdays(2022)\n",
    "y2 = [str(r) for r in dt2022]\n",
    "\n",
    "dates = y_gap + y2 + y1"
   ]
  },
  {
   "cell_type": "code",
   "execution_count": 15,
   "metadata": {},
   "outputs": [],
   "source": [
    "# create the list of URLs for scraping\n",
    "urls = []\n",
    "for date in dates:\n",
    "    url = \"https://www.billboard.com/charts/hot-100/\" + date + \"/\"\n",
    "    urls.append(url)\n"
   ]
  },
  {
   "cell_type": "code",
   "execution_count": 16,
   "metadata": {},
   "outputs": [],
   "source": [
    "# web crawler to scrape the data from the URLs\n",
    "def get_music_info (dates):\n",
    "    data = []\n",
    "    for date in dates:\n",
    "        time.sleep(random.randint(0, 1))    \n",
    "        url = \"https://www.billboard.com/charts/hot-100/\" + date + \"/\"\n",
    "        header = { \"User-Agent\" : \"small scraper for classroom purposes bao0211@uchicago.edu\" }  # add your email\n",
    "        response = requests.get(url, headers = header) \n",
    "        soup = bs(response.text, \"html.parser\")\n",
    "        for e in soup.find_all(attrs={'class':'o-chart-results-list-row-container'}):\n",
    "            temp_dict = {}\n",
    "            for index, value in enumerate(e.find_all('span', class_='c-label')):\n",
    "                temp_dict[index] = value\n",
    "            \n",
    "            data.append({'date':date,\n",
    "                            'rank':e.find('span').get_text(strip=True),\n",
    "                            'title':e.h3.get_text(strip=True),\n",
    "                            'author':e.h3.find_next('span').get_text(strip=True),\n",
    "                            'last_week':temp_dict[2].get_text(strip=True),\n",
    "                            'peak':temp_dict[3].get_text(strip=True),\n",
    "                            'total_week':temp_dict[4].get_text(strip=True)})\n",
    "    return data"
   ]
  },
  {
   "cell_type": "code",
   "execution_count": 17,
   "metadata": {},
   "outputs": [
    {
     "data": {
      "text/plain": [
       "{'date': '2021-11-14',\n",
       " 'rank': '3',\n",
       " 'title': 'Industry Baby',\n",
       " 'author': 'Lil Nas X & Jack Harlow',\n",
       " 'last_week': '3',\n",
       " 'peak': '1',\n",
       " 'total_week': '16'}"
      ]
     },
     "execution_count": 17,
     "metadata": {},
     "output_type": "execute_result"
    }
   ],
   "source": [
    "# get the data\n",
    "data = get_music_info(dates)\n",
    "data[2]"
   ]
  },
  {
   "cell_type": "code",
   "execution_count": 187,
   "metadata": {},
   "outputs": [],
   "source": [
    "import csv"
   ]
  },
  {
   "cell_type": "code",
   "execution_count": null,
   "metadata": {},
   "outputs": [],
   "source": [
    "# write the data to a csv file\n",
    "fieldnames = data[0].keys()\n",
    "\n",
    "# Specify the name of the CSV file\n",
    "csv_filename = 'billboard_data_rest.csv'\n",
    "\n",
    "# Write data to CSV file\n",
    "with open(csv_filename, mode='w', newline='') as file:\n",
    "    writer = csv.DictWriter(file, fieldnames=fieldnames)\n",
    "    writer.writeheader()\n",
    "    for row in data:\n",
    "        writer.writerow(row)"
   ]
  }
 ],
 "metadata": {
  "kernelspec": {
   "display_name": "Python 3",
   "language": "python",
   "name": "python3"
  },
  "language_info": {
   "codemirror_mode": {
    "name": "ipython",
    "version": 3
   },
   "file_extension": ".py",
   "mimetype": "text/x-python",
   "name": "python",
   "nbconvert_exporter": "python",
   "pygments_lexer": "ipython3",
   "version": "3.11.5"
  }
 },
 "nbformat": 4,
 "nbformat_minor": 2
}
